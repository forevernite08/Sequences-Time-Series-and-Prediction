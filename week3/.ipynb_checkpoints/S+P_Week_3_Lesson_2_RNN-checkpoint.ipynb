{
 "cells": [
  {
   "cell_type": "code",
   "execution_count": 1,
   "metadata": {
    "colab": {},
    "colab_type": "code",
    "id": "zX4Kg8DUTKWO"
   },
   "outputs": [],
   "source": [
    "#@title Licensed under the Apache License, Version 2.0 (the \"License\");\n",
    "# you may not use this file except in compliance with the License.\n",
    "# You may obtain a copy of the License at\n",
    "#\n",
    "# https://www.apache.org/licenses/LICENSE-2.0\n",
    "#\n",
    "# Unless required by applicable law or agreed to in writing, software\n",
    "# distributed under the License is distributed on an \"AS IS\" BASIS,\n",
    "# WITHOUT WARRANTIES OR CONDITIONS OF ANY KIND, either express or implied.\n",
    "# See the License for the specific language governing permissions and\n",
    "# limitations under the License."
   ]
  },
  {
   "cell_type": "code",
   "execution_count": 2,
   "metadata": {
    "cellView": "both",
    "colab": {},
    "colab_type": "code",
    "id": "D1J15Vh_1Jih"
   },
   "outputs": [],
   "source": [
    "try:\n",
    "  # %tensorflow_version only exists in Colab.\n",
    "  %tensorflow_version 2.x\n",
    "except Exception:\n",
    "  pass\n"
   ]
  },
  {
   "cell_type": "code",
   "execution_count": 3,
   "metadata": {
    "colab": {},
    "colab_type": "code",
    "id": "BOjujz601HcS"
   },
   "outputs": [
    {
     "name": "stdout",
     "output_type": "stream",
     "text": [
      "2.0.0\n"
     ]
    }
   ],
   "source": [
    "import tensorflow as tf\n",
    "import numpy as np\n",
    "import matplotlib.pyplot as plt\n",
    "print(tf.__version__)"
   ]
  },
  {
   "cell_type": "code",
   "execution_count": 4,
   "metadata": {
    "colab": {},
    "colab_type": "code",
    "id": "Zswl7jRtGzkk"
   },
   "outputs": [],
   "source": [
    "def plot_series(time, series, format=\"-\", start=0, end=None):\n",
    "    plt.plot(time[start:end], series[start:end], format)\n",
    "    plt.xlabel(\"Time\")\n",
    "    plt.ylabel(\"Value\")\n",
    "    plt.grid(True)\n",
    "\n",
    "def trend(time, slope=0):\n",
    "    return slope * time\n",
    "\n",
    "def seasonal_pattern(season_time):\n",
    "    \"\"\"Just an arbitrary pattern, you can change it if you wish\"\"\"\n",
    "    return np.where(season_time < 0.4,\n",
    "                    np.cos(season_time * 2 * np.pi),\n",
    "                    1 / np.exp(3 * season_time))\n",
    "\n",
    "def seasonality(time, period, amplitude=1, phase=0):\n",
    "    \"\"\"Repeats the same pattern at each period\"\"\"\n",
    "    season_time = ((time + phase) % period) / period\n",
    "    return amplitude * seasonal_pattern(season_time)\n",
    "\n",
    "def noise(time, noise_level=1, seed=None):\n",
    "    rnd = np.random.RandomState(seed)\n",
    "    return rnd.randn(len(time)) * noise_level\n",
    "\n",
    "time = np.arange(4 * 365 + 1, dtype=\"float32\")\n",
    "baseline = 10\n",
    "series = trend(time, 0.1)  \n",
    "baseline = 10\n",
    "amplitude = 40\n",
    "slope = 0.05\n",
    "noise_level = 5\n",
    "\n",
    "# Create the series\n",
    "series = baseline + trend(time, slope) + seasonality(time, period=365, amplitude=amplitude)\n",
    "# Update with noise\n",
    "series += noise(time, noise_level, seed=42)\n",
    "\n",
    "split_time = 1000\n",
    "time_train = time[:split_time]\n",
    "x_train = series[:split_time]\n",
    "time_valid = time[split_time:]\n",
    "x_valid = series[split_time:]\n",
    "\n",
    "window_size = 20\n",
    "batch_size = 32\n",
    "shuffle_buffer_size = 1000"
   ]
  },
  {
   "cell_type": "code",
   "execution_count": 5,
   "metadata": {
    "colab": {},
    "colab_type": "code",
    "id": "4sTTIOCbyShY"
   },
   "outputs": [],
   "source": [
    "def windowed_dataset(series, window_size, batch_size, shuffle_buffer):\n",
    "  dataset = tf.data.Dataset.from_tensor_slices(series)\n",
    "  dataset = dataset.window(window_size + 1, shift=1, drop_remainder=True)\n",
    "  dataset = dataset.flat_map(lambda window: window.batch(window_size + 1))\n",
    "  dataset = dataset.shuffle(shuffle_buffer).map(lambda window: (window[:-1], window[-1]))\n",
    "  dataset = dataset.batch(batch_size).prefetch(1)\n",
    "  return dataset"
   ]
  },
  {
   "cell_type": "code",
   "execution_count": null,
   "metadata": {
    "colab": {},
    "colab_type": "code",
    "id": "L4nblWkqg1NL"
   },
   "outputs": [
    {
     "name": "stdout",
     "output_type": "stream",
     "text": [
      "Epoch 1/100\n",
      "8/8 [==============================] - 2s 289ms/step - loss: 195.6164 - mae: 196.0720\n",
      "Epoch 2/100\n",
      "8/8 [==============================] - 0s 36ms/step - loss: 194.5325 - mae: 195.2834\n",
      "Epoch 3/100\n",
      "8/8 [==============================] - 0s 36ms/step - loss: 192.9727 - mae: 194.0106\n",
      "Epoch 4/100\n",
      "8/8 [==============================] - 0s 36ms/step - loss: 192.1908 - mae: 192.4087\n",
      "Epoch 5/100\n",
      "8/8 [==============================] - 0s 37ms/step - loss: 190.2552 - mae: 190.5219\n",
      "Epoch 6/100\n",
      "8/8 [==============================] - 0s 36ms/step - loss: 187.3451 - mae: 188.3526\n",
      "Epoch 7/100\n",
      "8/8 [==============================] - 0s 37ms/step - loss: 185.5730 - mae: 185.8774\n",
      "Epoch 8/100\n",
      "8/8 [==============================] - 0s 37ms/step - loss: 182.9678 - mae: 183.0458\n",
      "Epoch 9/100\n",
      "8/8 [==============================] - 0s 37ms/step - loss: 179.8839 - mae: 179.8092\n",
      "Epoch 10/100\n",
      "8/8 [==============================] - 0s 35ms/step - loss: 175.3425 - mae: 176.0967\n",
      "Epoch 11/100\n",
      "8/8 [==============================] - 0s 37ms/step - loss: 171.4574 - mae: 171.8191\n",
      "Epoch 12/100\n",
      "8/8 [==============================] - 0s 38ms/step - loss: 166.5395 - mae: 166.8562\n",
      "Epoch 13/100\n",
      "8/8 [==============================] - 0s 36ms/step - loss: 161.1083 - mae: 161.0344\n",
      "Epoch 14/100\n",
      "8/8 [==============================] - 0s 37ms/step - loss: 153.6394 - mae: 154.1573\n",
      "Epoch 15/100\n",
      "8/8 [==============================] - 0s 38ms/step - loss: 145.5294 - mae: 145.8014\n",
      "Epoch 16/100\n",
      "8/8 [==============================] - 0s 36ms/step - loss: 135.3183 - mae: 135.5340\n",
      "Epoch 17/100\n",
      "8/8 [==============================] - 0s 36ms/step - loss: 122.6589 - mae: 122.5148\n",
      "Epoch 18/100\n",
      "8/8 [==============================] - 0s 37ms/step - loss: 106.1996 - mae: 105.8232\n",
      "Epoch 19/100\n",
      "8/8 [==============================] - 0s 37ms/step - loss: 84.8839 - mae: 84.5497\n",
      "Epoch 20/100\n",
      "8/8 [==============================] - 0s 37ms/step - loss: 58.2292 - mae: 57.8901\n",
      "Epoch 21/100\n",
      "8/8 [==============================] - 0s 37ms/step - loss: 32.5684 - mae: 32.4902\n",
      "Epoch 22/100\n",
      "8/8 [==============================] - 0s 37ms/step - loss: 24.0260 - mae: 24.4906\n",
      "Epoch 23/100\n",
      "8/8 [==============================] - 0s 40ms/step - loss: 23.0868 - mae: 23.6417\n",
      "Epoch 24/100\n",
      "8/8 [==============================] - 0s 36ms/step - loss: 21.0851 - mae: 21.4012\n",
      "Epoch 25/100\n",
      "8/8 [==============================] - 0s 37ms/step - loss: 16.7501 - mae: 17.2673\n",
      "Epoch 26/100\n",
      "8/8 [==============================] - 0s 37ms/step - loss: 13.8015 - mae: 14.2181\n",
      "Epoch 27/100\n",
      "8/8 [==============================] - 0s 37ms/step - loss: 10.8268 - mae: 11.2559\n",
      "Epoch 28/100\n",
      "8/8 [==============================] - 0s 39ms/step - loss: 8.6537 - mae: 9.1752\n",
      "Epoch 29/100\n",
      "8/8 [==============================] - 0s 36ms/step - loss: 8.1172 - mae: 8.4686\n",
      "Epoch 30/100\n",
      "8/8 [==============================] - 0s 39ms/step - loss: 7.8616 - mae: 8.3768\n",
      "Epoch 31/100\n",
      "8/8 [==============================] - 0s 38ms/step - loss: 7.9826 - mae: 8.3434\n",
      "Epoch 32/100\n",
      "8/8 [==============================] - 0s 39ms/step - loss: 7.6440 - mae: 8.2072\n",
      "Epoch 33/100\n",
      "8/8 [==============================] - 0s 39ms/step - loss: 7.6061 - mae: 8.1244\n",
      "Epoch 34/100\n",
      "8/8 [==============================] - 0s 38ms/step - loss: 7.6497 - mae: 8.1203\n",
      "Epoch 35/100\n",
      "8/8 [==============================] - 0s 39ms/step - loss: 7.5808 - mae: 8.0143\n",
      "Epoch 36/100\n",
      "8/8 [==============================] - 0s 41ms/step - loss: 7.3828 - mae: 7.9604\n",
      "Epoch 37/100\n",
      "8/8 [==============================] - 0s 44ms/step - loss: 7.4260 - mae: 7.8328\n",
      "Epoch 38/100\n",
      "8/8 [==============================] - 0s 39ms/step - loss: 7.1813 - mae: 7.7662\n",
      "Epoch 39/100\n",
      "8/8 [==============================] - 0s 37ms/step - loss: 7.1990 - mae: 7.7087\n",
      "Epoch 40/100\n",
      "8/8 [==============================] - 0s 37ms/step - loss: 7.0874 - mae: 7.6695\n",
      "Epoch 41/100\n",
      "8/8 [==============================] - 0s 40ms/step - loss: 7.0907 - mae: 7.6554\n",
      "Epoch 42/100\n"
     ]
    }
   ],
   "source": [
    "tf.keras.backend.clear_session()\n",
    "tf.random.set_seed(51)\n",
    "np.random.seed(51)\n",
    "\n",
    "train_set = windowed_dataset(x_train, window_size, batch_size=128, shuffle_buffer=shuffle_buffer_size)\n",
    "\n",
    "model = tf.keras.models.Sequential([\n",
    "  tf.keras.layers.Lambda(lambda x: tf.expand_dims(x, axis=-1),\n",
    "                      input_shape=[None]),\n",
    "  tf.keras.layers.SimpleRNN(40, return_sequences=True),\n",
    "  tf.keras.layers.SimpleRNN(40),\n",
    "  tf.keras.layers.Dense(1),\n",
    "  tf.keras.layers.Lambda(lambda x: x * 100.0)\n",
    "])\n",
    "\n",
    "lr_schedule = tf.keras.callbacks.LearningRateScheduler(\n",
    "    lambda epoch: 1e-8 * 10**(epoch / 20))\n",
    "optimizer = tf.keras.optimizers.SGD(lr=1e-8, momentum=0.9)\n",
    "model.compile(loss=tf.keras.losses.Huber(),\n",
    "              optimizer=optimizer,\n",
    "              metrics=[\"mae\"])\n",
    "history = model.fit(train_set, epochs=100, callbacks=[lr_schedule])"
   ]
  },
  {
   "cell_type": "code",
   "execution_count": null,
   "metadata": {
    "colab": {},
    "colab_type": "code",
    "id": "5He3pp-Hj758"
   },
   "outputs": [],
   "source": [
    "plt.semilogx(history.history[\"lr\"], history.history[\"loss\"])\n",
    "plt.axis([1e-8, 1e-4, 0, 30])"
   ]
  },
  {
   "cell_type": "code",
   "execution_count": null,
   "metadata": {
    "colab": {},
    "colab_type": "code",
    "id": "6y1KMowRkHkC"
   },
   "outputs": [],
   "source": [
    "tf.keras.backend.clear_session()\n",
    "tf.random.set_seed(51)\n",
    "np.random.seed(51)\n",
    "\n",
    "dataset = windowed_dataset(x_train, window_size, batch_size=128, shuffle_buffer=shuffle_buffer_size)\n",
    "\n",
    "model = tf.keras.models.Sequential([\n",
    "  tf.keras.layers.Lambda(lambda x: tf.expand_dims(x, axis=-1),\n",
    "                      input_shape=[None]),\n",
    "  tf.keras.layers.SimpleRNN(40, return_sequences=True),\n",
    "  tf.keras.layers.SimpleRNN(40),\n",
    "  tf.keras.layers.Dense(1),\n",
    "  tf.keras.layers.Lambda(lambda x: x * 100.0)\n",
    "])\n",
    "\n",
    "optimizer = tf.keras.optimizers.SGD(lr=5e-5, momentum=0.9)\n",
    "model.compile(loss=tf.keras.losses.Huber(),\n",
    "              optimizer=optimizer,\n",
    "              metrics=[\"mae\"])\n",
    "history = model.fit(dataset,epochs=400)"
   ]
  },
  {
   "cell_type": "code",
   "execution_count": null,
   "metadata": {
    "colab": {},
    "colab_type": "code",
    "id": "ejBynEKekaKw"
   },
   "outputs": [],
   "source": [
    "forecast=[]\n",
    "for time in range(len(series) - window_size):\n",
    "  forecast.append(model.predict(series[time:time + window_size][np.newaxis]))\n",
    "\n",
    "forecast = forecast[split_time-window_size:]\n",
    "results = np.array(forecast)[:, 0, 0]\n",
    "\n",
    "\n",
    "plt.figure(figsize=(10, 6))\n",
    "\n",
    "plot_series(time_valid, x_valid)\n",
    "plot_series(time_valid, results)"
   ]
  },
  {
   "cell_type": "code",
   "execution_count": null,
   "metadata": {
    "colab": {},
    "colab_type": "code",
    "id": "hR2BO0Dai_ZT"
   },
   "outputs": [],
   "source": [
    "tf.keras.metrics.mean_absolute_error(x_valid, results).numpy()"
   ]
  },
  {
   "cell_type": "code",
   "execution_count": null,
   "metadata": {
    "colab": {},
    "colab_type": "code",
    "id": "vXaFHOaJqE6M"
   },
   "outputs": [],
   "source": [
    "import matplotlib.image  as mpimg\n",
    "import matplotlib.pyplot as plt\n",
    "\n",
    "#-----------------------------------------------------------\n",
    "# Retrieve a list of list results on training and test data\n",
    "# sets for each training epoch\n",
    "#-----------------------------------------------------------\n",
    "mae=history.history['mae']\n",
    "loss=history.history['loss']\n",
    "\n",
    "epochs=range(len(loss)) # Get number of epochs\n",
    "\n",
    "#------------------------------------------------\n",
    "# Plot MAE and Loss\n",
    "#------------------------------------------------\n",
    "plt.plot(epochs, mae, 'r')\n",
    "plt.plot(epochs, loss, 'b')\n",
    "plt.title('MAE and Loss')\n",
    "plt.xlabel(\"Epochs\")\n",
    "plt.ylabel(\"Accuracy\")\n",
    "plt.legend([\"MAE\", \"Loss\"])\n",
    "\n",
    "plt.figure()\n",
    "\n",
    "epochs_zoom = epochs[200:]\n",
    "mae_zoom = mae[200:]\n",
    "loss_zoom = loss[200:]\n",
    "\n",
    "#------------------------------------------------\n",
    "# Plot Zoomed MAE and Loss\n",
    "#------------------------------------------------\n",
    "plt.plot(epochs_zoom, mae_zoom, 'r')\n",
    "plt.plot(epochs_zoom, loss_zoom, 'b')\n",
    "plt.title('MAE and Loss')\n",
    "plt.xlabel(\"Epochs\")\n",
    "plt.ylabel(\"Accuracy\")\n",
    "plt.legend([\"MAE\", \"Loss\"])\n",
    "\n",
    "plt.figure()"
   ]
  }
 ],
 "metadata": {
  "colab": {
   "collapsed_sections": [],
   "name": "S+P Week 3 Lesson 2 - RNN.ipynb",
   "provenance": [],
   "toc_visible": true
  },
  "kernelspec": {
   "display_name": "Python 3",
   "language": "python",
   "name": "python3"
  },
  "language_info": {
   "codemirror_mode": {
    "name": "ipython",
    "version": 3
   },
   "file_extension": ".py",
   "mimetype": "text/x-python",
   "name": "python",
   "nbconvert_exporter": "python",
   "pygments_lexer": "ipython3",
   "version": "3.7.4"
  }
 },
 "nbformat": 4,
 "nbformat_minor": 4
}
